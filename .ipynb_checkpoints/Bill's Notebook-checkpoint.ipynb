{
 "cells": [
  {
   "cell_type": "code",
   "execution_count": null,
   "metadata": {},
   "outputs": [],
   "source": [
    "import pandas as pd"
   ]
  },
  {
   "cell_type": "code",
   "execution_count": null,
   "metadata": {},
   "outputs": [],
   "source": [
    "data = pd.read_csv(\"ks-projects-201801.csv\")\n",
    "data"
   ]
  },
  {
   "cell_type": "code",
   "execution_count": null,
   "metadata": {
    "scrolled": true
   },
   "outputs": [],
   "source": [
    "just3columns = data.filter(['category', 'state'])\n",
    "just3columns"
   ]
  },
  {
   "cell_type": "code",
   "execution_count": null,
   "metadata": {
    "scrolled": true
   },
   "outputs": [],
   "source": [
    "unique_categories_in_array = just3columns.category.unique()\n",
    "unique_categories_in_array"
   ]
  },
  {
   "cell_type": "code",
   "execution_count": null,
   "metadata": {},
   "outputs": [],
   "source": [
    "categories = 0\n",
    "for category in unique_categories_in_array:\n",
    "    categories += 1\n",
    "print(categories)"
   ]
  },
  {
   "cell_type": "code",
   "execution_count": null,
   "metadata": {
    "scrolled": false
   },
   "outputs": [],
   "source": [
    "filter_places = data.category.str.contains('Residencies', na=False)\n",
    "data[filter_places].head(10) #fithers the list, shows only places with that category\n",
    "#len(just3columns[filter_places]) #length of the filtered list\n"
   ]
  },
  {
   "cell_type": "code",
   "execution_count": null,
   "metadata": {},
   "outputs": [],
   "source": [
    "#filters based on 'sucessful'\n",
    "successful_filter = just3columns[filter_places].state.str.contains('successful')\n",
    "#lenght of this filtered list\n",
    "just3columns[filter_places][successful_filter]"
   ]
  },
  {
   "cell_type": "code",
   "execution_count": null,
   "metadata": {
    "scrolled": true
   },
   "outputs": [],
   "source": [
    "# ms = most_successful\n",
    "ms_category = \"\"\n",
    "ms_successes = 0\n",
    "ms_attempts = 0\n",
    "ms_rate = 0\n",
    "#ls = least_successful\n",
    "ls_category = \"\"\n",
    "ls_successes = 0\n",
    "ls_attempts = 0\n",
    "ls_rate = 100\n",
    "\n",
    "for category in unique_categories_in_array: #loops through all categories\n",
    "\n",
    "    filter_category = just3columns.category.str.contains(f\"{category}\")\n",
    "    projects_in_category = len(just3columns[filter_category]) # number of hits in category\n",
    "    \n",
    "    filter_success = just3columns[filter_category].state.str.contains('successful')\n",
    "    successes_in_category = len(just3columns[filter_category][filter_success]) # successes in category\n",
    "    \n",
    "    success_rate = successes_in_category / projects_in_category\n",
    "    if success_rate > ms_rate:\n",
    "        ms_category = category\n",
    "        ms_successes = successes_in_category\n",
    "        ms_attempts = projects_in_category\n",
    "        ms_rate = success_rate\n",
    "        \n",
    "    elif success_rate < ls_rate:\n",
    "        ls_category = category\n",
    "        ls_successes = successes_in_category\n",
    "        ls_attempts = projects_in_category\n",
    "        ls_rate = success_rate\n",
    "  \n",
    "print(f\"The most successful category is {ms_category} with {ms_attempts}\",\n",
    "          f\"attempts with {ms_successes} successes, with a success rate of {ms_rate}\")\n",
    "print(f\"The least successful category is {ls_category} with {ls_attempts}\",\n",
    "          f\"attempts with {ls_successes} successes, with a success rate of {ls_rate}\")"
   ]
  },
  {
   "cell_type": "code",
   "execution_count": null,
   "metadata": {},
   "outputs": [],
   "source": [
    "category_rankings = []\n",
    "\n",
    "loops = 0\n",
    "\n",
    "for category in unique_categories_in_array:\n",
    "    \n",
    "    #loops += 1\n",
    "    #if loops > 10:\n",
    "    #    break\n",
    "        \n",
    "    filter_category = just3columns.category.str.contains(f\"{category}\")\n",
    "    projects_in_category = len(just3columns[filter_category]) # number of hits in category\n",
    "    \n",
    "    filter_success = just3columns[filter_category].state.str.contains('successful')\n",
    "    successes_in_category = len(just3columns[filter_category][filter_success]) # successes in category\n",
    "    \n",
    "    success_rate = successes_in_category / projects_in_category\n",
    "    \n",
    "    new_category_data = {'category':category, 'successrate': success_rate, 'successes':successes_in_category, 'projects':projects_in_category}\n",
    "    category_rankings.append(new_category_data)\n",
    "    \n",
    "    \n",
    "#print(category_rankings)\n",
    "    \n",
    "#this point of the code works\n",
    "\n",
    "newlist = sorted(category_rankings, key=lambda k: k['successrate'], reverse=True) \n",
    "\n",
    "ranking = 0\n",
    "for category_data in newlist:\n",
    "    ranking += 1\n",
    "    print(f\"{ranking}. {category_data['category']} with a success rate of {category_data['successrate']}.\",\n",
    "              f\"with {category_data['successes']} from {category_data['projects']} attempts.\")\n",
    "\n"
   ]
  },
  {
   "cell_type": "code",
   "execution_count": null,
   "metadata": {},
   "outputs": [],
   "source": [
    "d = {'one':1,'three':3,'five':5,'two':2,'four':4}\n",
    "a = sorted(d.items(), key=lambda x: x[1])    \n",
    "print(a)"
   ]
  }
 ],
 "metadata": {
  "kernelspec": {
   "display_name": "Python 3",
   "language": "python",
   "name": "python3"
  },
  "language_info": {
   "codemirror_mode": {
    "name": "ipython",
    "version": 3
   },
   "file_extension": ".py",
   "mimetype": "text/x-python",
   "name": "python",
   "nbconvert_exporter": "python",
   "pygments_lexer": "ipython3",
   "version": "3.7.2"
  }
 },
 "nbformat": 4,
 "nbformat_minor": 4
}
